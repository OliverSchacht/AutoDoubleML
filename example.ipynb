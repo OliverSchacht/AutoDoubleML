{
 "cells": [
  {
   "cell_type": "code",
   "execution_count": 1,
   "metadata": {},
   "outputs": [
    {
     "name": "stderr",
     "output_type": "stream",
     "text": [
      "c:\\Users\\bachp\\anaconda3\\Lib\\site-packages\\pandas\\core\\arrays\\masked.py:60: UserWarning: Pandas requires version '1.3.6' or newer of 'bottleneck' (version '1.3.5' currently installed).\n",
      "  from pandas.core import (\n"
     ]
    }
   ],
   "source": [
    "from doubleml.datasets import make_plr_CCDDHNR2018, make_irm_data\n",
    "from autodml.AutoDoubleMLPLR import AutoDoubleMLPLR\n",
    "from autodml.AutoDoubleMLIRM import AutoDoubleMLIRM"
   ]
  },
  {
   "cell_type": "code",
   "execution_count": 2,
   "metadata": {},
   "outputs": [
    {
     "name": "stderr",
     "output_type": "stream",
     "text": [
      "c:\\Users\\bachp\\Documents\\Promotion\\DissundPapers\\Software\\DoubleML\\AutoDoubleML\\autodml\\_utils.py:15: UserWarning: No optimization time provided. Using default time. Time is equally split to all .\n",
      "  warnings.warn(f'No optimization time provided. Using default time. Time is equally split to all .')\n"
     ]
    }
   ],
   "source": [
    "obj_dml_data = make_plr_CCDDHNR2018()\n",
    "autodml_obj = AutoDoubleMLPLR(obj_dml_data, time = 20)"
   ]
  },
  {
   "cell_type": "code",
   "execution_count": 3,
   "metadata": {},
   "outputs": [
    {
     "name": "stdout",
     "output_type": "stream",
     "text": [
      "Optimizing learners for {'ml_l': 10, 'ml_m': 10}s. Please wait.\n",
      "================== AutoDoubleMLPLR Object ==================\n",
      "\n",
      "------------------ Data summary      ------------------\n",
      "Outcome variable: y\n",
      "Treatment variable(s): ['d']\n",
      "Covariates: ['X1', 'X2', 'X3', 'X4', 'X5', 'X6', 'X7', 'X8', 'X9', 'X10', 'X11', 'X12', 'X13', 'X14', 'X15', 'X16', 'X17', 'X18', 'X19', 'X20']\n",
      "Instrument variable(s): None\n",
      "No. Observations: 500\n",
      "\n",
      "------------------ Score & algorithm ------------------\n",
      "Score function: partialling out\n",
      "\n",
      "------------------ Machine learner   ------------------\n",
      "Learner ml_l: ExtraTreesRegressor(max_features=0.8029434814138767, max_leaf_nodes=10,\n",
      "                    n_estimators=5, n_jobs=-1, random_state=12032022)\n",
      "Learner ml_m: ExtraTreesRegressor(max_features=0.7371716979785757, max_leaf_nodes=11,\n",
      "                    n_estimators=6, n_jobs=-1, random_state=12032022)\n",
      "Out-of-sample Performance:\n",
      "Learner ml_l RMSE: [[1.23526319]]\n",
      "Learner ml_m RMSE: [[1.0563919]]\n",
      "\n",
      "------------------ Resampling        ------------------\n",
      "No. folds: 5\n",
      "No. repeated sample splits: 1\n",
      "\n",
      "------------------ Fit summary       ------------------\n",
      "       coef   std err          t         P>|t|     2.5 %    97.5 %\n",
      "d  0.524985  0.045527  11.531212  9.184153e-31  0.435753  0.614217\n"
     ]
    }
   ],
   "source": [
    "print(autodml_obj.fit())"
   ]
  },
  {
   "cell_type": "code",
   "execution_count": 4,
   "metadata": {},
   "outputs": [
    {
     "data": {
      "text/plain": [
       "{'ml_l': array([[1.23526319]]), 'ml_m': array([[1.0563919]])}"
      ]
     },
     "execution_count": 4,
     "metadata": {},
     "output_type": "execute_result"
    }
   ],
   "source": [
    "# evaluate learner fit\n",
    "autodml_obj.evaluate_learners()"
   ]
  },
  {
   "cell_type": "code",
   "execution_count": 5,
   "metadata": {},
   "outputs": [
    {
     "name": "stdout",
     "output_type": "stream",
     "text": [
      "Optimizing learners for {'ml_l': 42, 'ml_m': 24}s. Please wait.\n",
      "================== AutoDoubleMLPLR Object ==================\n",
      "\n",
      "------------------ Data summary      ------------------\n",
      "Outcome variable: y\n",
      "Treatment variable(s): ['d']\n",
      "Covariates: ['X1', 'X2', 'X3', 'X4', 'X5', 'X6', 'X7', 'X8', 'X9', 'X10', 'X11', 'X12', 'X13', 'X14', 'X15', 'X16', 'X17', 'X18', 'X19', 'X20']\n",
      "Instrument variable(s): None\n",
      "No. Observations: 500\n",
      "\n",
      "------------------ Score & algorithm ------------------\n",
      "Score function: partialling out\n",
      "\n",
      "------------------ Machine learner   ------------------\n",
      "Learner ml_l: ExtraTreesRegressor(max_features=0.8052950763631458, max_leaf_nodes=11,\n",
      "                    n_estimators=6, n_jobs=-1, random_state=12032022)\n",
      "Learner ml_m: ExtraTreesRegressor(max_features=0.9143480231713069, max_leaf_nodes=12,\n",
      "                    n_estimators=13, n_jobs=-1, random_state=12032022)\n",
      "Out-of-sample Performance:\n",
      "Learner ml_l RMSE: [[1.22710261]]\n",
      "Learner ml_m RMSE: [[1.03328287]]\n",
      "\n",
      "------------------ Resampling        ------------------\n",
      "No. folds: 5\n",
      "No. repeated sample splits: 1\n",
      "\n",
      "------------------ Fit summary       ------------------\n",
      "       coef   std err          t         P>|t|    2.5 %    97.5 %\n",
      "d  0.503574  0.048232  10.440605  1.617770e-25  0.40904  0.598107\n"
     ]
    }
   ],
   "source": [
    "# Custom split for training times\n",
    "time_dict =  {\n",
    "    'ml_l' : 42,\n",
    "    'ml_m' : 24,\n",
    "}\n",
    "autodml_obj = AutoDoubleMLPLR(obj_dml_data, time = time_dict)\n",
    "\n",
    "autodml_obj.fit()\n",
    "\n",
    "print(autodml_obj)"
   ]
  },
  {
   "cell_type": "code",
   "execution_count": 6,
   "metadata": {},
   "outputs": [
    {
     "data": {
      "text/plain": [
       "{'ml_l': array([[1.22710261]]), 'ml_m': array([[1.03328287]])}"
      ]
     },
     "execution_count": 6,
     "metadata": {},
     "output_type": "execute_result"
    }
   ],
   "source": [
    "# evaluate learner fit\n",
    "autodml_obj.evaluate_learners()"
   ]
  },
  {
   "cell_type": "code",
   "execution_count": 7,
   "metadata": {},
   "outputs": [
    {
     "name": "stdout",
     "output_type": "stream",
     "text": [
      "Optimizing learners for {'ml_g0': 10, 'ml_g1': 10, 'ml_m': 10}s. Please wait.\n"
     ]
    },
    {
     "name": "stderr",
     "output_type": "stream",
     "text": [
      "c:\\Users\\bachp\\Documents\\Promotion\\DissundPapers\\Software\\DoubleML\\AutoDoubleML\\autodml\\_utils.py:15: UserWarning: No optimization time provided. Using default time. Time is equally split to all .\n",
      "  warnings.warn(f'No optimization time provided. Using default time. Time is equally split to all .')\n"
     ]
    },
    {
     "name": "stdout",
     "output_type": "stream",
     "text": [
      "================== AutoDoubleMLIRM Object ==================\n",
      "\n",
      "------------------ Data summary      ------------------\n",
      "Outcome variable: y\n",
      "Treatment variable(s): ['d']\n",
      "Covariates: ['X1', 'X2', 'X3', 'X4', 'X5', 'X6', 'X7', 'X8', 'X9', 'X10', 'X11', 'X12', 'X13', 'X14', 'X15', 'X16', 'X17', 'X18', 'X19', 'X20']\n",
      "Instrument variable(s): None\n",
      "No. Observations: 500\n",
      "\n",
      "------------------ Score & algorithm ------------------\n",
      "Score function: ATE\n",
      "\n",
      "------------------ Machine learner   ------------------\n",
      "Learner ml_g: ExtraTreesRegressor(max_features=0.9586055955836026, max_leaf_nodes=7,\n",
      "                    n_estimators=4, n_jobs=-1, random_state=12032022)\n",
      "Learner ml_m: XGBClassifier(base_score=None, booster=None, callbacks=[],\n",
      "              colsample_bylevel=0.7457705613011181, colsample_bynode=None,\n",
      "              colsample_bytree=0.8893976619403858, device=None,\n",
      "              early_stopping_rounds=None, enable_categorical=False,\n",
      "              eval_metric=None, feature_types=None, gamma=None,\n",
      "              grow_policy=None, importance_type=None,\n",
      "              interaction_constraints=None, learning_rate=0.14004938127909208,\n",
      "              max_bin=None, max_cat_threshold=None, max_cat_to_onehot=None,\n",
      "              max_delta_step=None, max_depth=7, max_leaves=None,\n",
      "              min_child_weight=19.860159148000392, missing=nan,\n",
      "              monotone_constraints=None, multi_strategy=None, n_estimators=17,\n",
      "              n_jobs=-1, num_parallel_tree=None, random_state=None, ...)\n",
      "Out-of-sample Performance:\n",
      "Learner ml_g0 RMSE: [[0.87853486]]\n",
      "Learner ml_g1 RMSE: [[1.0266414]]\n",
      "Learner ml_m RMSE: [[0.42024008]]\n",
      "\n",
      "------------------ Resampling        ------------------\n",
      "No. folds: 5\n",
      "No. repeated sample splits: 1\n",
      "\n",
      "------------------ Fit summary       ------------------\n",
      "       coef   std err         t     P>|t|     2.5 %    97.5 %\n",
      "d  0.054706  0.087082  0.628209  0.529867 -0.115972  0.225384\n"
     ]
    }
   ],
   "source": [
    "obj_dml_data = make_irm_data()\n",
    "autodml_obj = AutoDoubleMLIRM(obj_dml_data, time = 30)\n",
    "autodml_obj.fit()\n",
    "print(autodml_obj)"
   ]
  },
  {
   "cell_type": "code",
   "execution_count": 8,
   "metadata": {},
   "outputs": [
    {
     "data": {
      "text/plain": [
       "{'ml_g0': array([[0.87853486]]),\n",
       " 'ml_g1': array([[1.0266414]]),\n",
       " 'ml_m': array([[0.42024008]])}"
      ]
     },
     "execution_count": 8,
     "metadata": {},
     "output_type": "execute_result"
    }
   ],
   "source": [
    "# evaluate learner fit\n",
    "autodml_obj.evaluate_learners()"
   ]
  },
  {
   "cell_type": "code",
   "execution_count": 9,
   "metadata": {},
   "outputs": [],
   "source": [
    "# Custom split for training times\n",
    "time_dict =  {\n",
    "    'ml_g0' : 42,\n",
    "    'ml_g1' : 42,\n",
    "    'ml_m' : 24,\n",
    "}\n",
    "autodml_obj = AutoDoubleMLIRM(obj_dml_data, time = time_dict)\n"
   ]
  },
  {
   "cell_type": "code",
   "execution_count": 10,
   "metadata": {},
   "outputs": [
    {
     "name": "stdout",
     "output_type": "stream",
     "text": [
      "Optimizing learners for {'ml_g0': 42, 'ml_g1': 42, 'ml_m': 24}s. Please wait.\n",
      "================== AutoDoubleMLIRM Object ==================\n",
      "\n",
      "------------------ Data summary      ------------------\n",
      "Outcome variable: y\n",
      "Treatment variable(s): ['d']\n",
      "Covariates: ['X1', 'X2', 'X3', 'X4', 'X5', 'X6', 'X7', 'X8', 'X9', 'X10', 'X11', 'X12', 'X13', 'X14', 'X15', 'X16', 'X17', 'X18', 'X19', 'X20']\n",
      "Instrument variable(s): None\n",
      "No. Observations: 500\n",
      "\n",
      "------------------ Score & algorithm ------------------\n",
      "Score function: ATE\n",
      "\n",
      "------------------ Machine learner   ------------------\n",
      "Learner ml_g: ExtraTreesRegressor(max_features=0.9586055955836026, max_leaf_nodes=7,\n",
      "                    n_estimators=4, n_jobs=-1, random_state=12032022)\n",
      "Learner ml_m: XGBClassifier(base_score=None, booster=None, callbacks=[],\n",
      "              colsample_bylevel=0.7457705613011181, colsample_bynode=None,\n",
      "              colsample_bytree=0.8893976619403858, device=None,\n",
      "              early_stopping_rounds=None, enable_categorical=False,\n",
      "              eval_metric=None, feature_types=None, gamma=None,\n",
      "              grow_policy=None, importance_type=None,\n",
      "              interaction_constraints=None, learning_rate=0.14004938127909208,\n",
      "              max_bin=None, max_cat_threshold=None, max_cat_to_onehot=None,\n",
      "              max_delta_step=None, max_depth=7, max_leaves=None,\n",
      "              min_child_weight=19.860159148000392, missing=nan,\n",
      "              monotone_constraints=None, multi_strategy=None, n_estimators=17,\n",
      "              n_jobs=-1, num_parallel_tree=None, random_state=None, ...)\n",
      "Out-of-sample Performance:\n",
      "Learner ml_g0 RMSE: [[0.87959066]]\n",
      "Learner ml_g1 RMSE: [[0.99428573]]\n",
      "Learner ml_m RMSE: [[0.42377825]]\n",
      "\n",
      "------------------ Resampling        ------------------\n",
      "No. folds: 5\n",
      "No. repeated sample splits: 1\n",
      "\n",
      "------------------ Fit summary       ------------------\n",
      "       coef   std err         t     P>|t|     2.5 %    97.5 %\n",
      "d  0.069769  0.087989  0.792922  0.427823 -0.102687  0.242224\n"
     ]
    }
   ],
   "source": [
    "print(autodml_obj.fit())"
   ]
  },
  {
   "cell_type": "code",
   "execution_count": 11,
   "metadata": {},
   "outputs": [
    {
     "data": {
      "text/plain": [
       "{'ml_g0': array([[0.87959066]]),\n",
       " 'ml_g1': array([[0.99428573]]),\n",
       " 'ml_m': array([[0.42377825]])}"
      ]
     },
     "execution_count": 11,
     "metadata": {},
     "output_type": "execute_result"
    }
   ],
   "source": [
    "# evaluate learner fit\n",
    "autodml_obj.evaluate_learners()"
   ]
  }
 ],
 "metadata": {
  "kernelspec": {
   "display_name": "dml07",
   "language": "python",
   "name": "python3"
  },
  "language_info": {
   "codemirror_mode": {
    "name": "ipython",
    "version": 3
   },
   "file_extension": ".py",
   "mimetype": "text/x-python",
   "name": "python",
   "nbconvert_exporter": "python",
   "pygments_lexer": "ipython3",
   "version": "3.11.5"
  }
 },
 "nbformat": 4,
 "nbformat_minor": 2
}
