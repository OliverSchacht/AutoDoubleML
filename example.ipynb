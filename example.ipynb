{
 "cells": [
  {
   "cell_type": "code",
   "execution_count": 1,
   "metadata": {},
   "outputs": [],
   "source": [
    "from doubleml.datasets import make_plr_CCDDHNR2018, make_irm_data\n",
    "from autodml.AutoDoubleMLPLR import AutoDoubleMLPLR\n",
    "from autodml.AutoDoubleMLIRM import AutoDoubleMLIRM"
   ]
  },
  {
   "cell_type": "code",
   "execution_count": 2,
   "metadata": {},
   "outputs": [],
   "source": [
    "obj_dml_data = make_plr_CCDDHNR2018()\n",
    "autodml_obj = AutoDoubleMLPLR(obj_dml_data, time = 20)"
   ]
  },
  {
   "cell_type": "code",
   "execution_count": 46,
   "metadata": {},
   "outputs": [
    {
     "name": "stdout",
     "output_type": "stream",
     "text": [
      "Optimizing learners for 20s. Please wait.\n",
      "================== AutoDoubleMLPLR Object ==================\n",
      "\n",
      "------------------ Data summary      ------------------\n",
      "Outcome variable: y\n",
      "Treatment variable(s): ['d']\n",
      "Covariates: ['X1', 'X2', 'X3', 'X4', 'X5', 'X6', 'X7', 'X8', 'X9', 'X10', 'X11', 'X12', 'X13', 'X14', 'X15', 'X16', 'X17', 'X18', 'X19', 'X20']\n",
      "Instrument variable(s): None\n",
      "No. Observations: 500\n",
      "\n",
      "------------------ Score & algorithm ------------------\n",
      "Score function: partialling out\n",
      "\n",
      "------------------ Machine learner   ------------------\n",
      "Learner ml_l: ExtraTreesRegressor(max_features=np.float64(0.9333008755518615),\n",
      "                    max_leaf_nodes=8, n_estimators=4, n_jobs=-1,\n",
      "                    random_state=12032022)\n",
      "Learner ml_m: ExtraTreesRegressor(max_leaf_nodes=7, n_estimators=6, n_jobs=-1,\n",
      "                    random_state=12032022)\n",
      "Out-of-sample Performance:\n",
      "Learner ml_l RMSE: [[1.13746385]]\n",
      "Learner ml_m RMSE: [[1.14147322]]\n",
      "\n",
      "------------------ Resampling        ------------------\n",
      "No. folds: 5\n",
      "No. repeated sample splits: 1\n",
      "\n",
      "------------------ Fit summary       ------------------\n",
      "       coef   std err          t         P>|t|     2.5 %   97.5 %\n",
      "d  0.431735  0.040631  10.625674  2.263709e-26  0.352099  0.51137\n"
     ]
    }
   ],
   "source": [
    "print(autodml_obj.fit())"
   ]
  },
  {
   "cell_type": "code",
   "execution_count": 2,
   "metadata": {},
   "outputs": [],
   "source": [
    "obj_dml_data = make_irm_data()\n",
    "autodml_obj = AutoDoubleMLIRM(obj_dml_data, time = 30)"
   ]
  },
  {
   "cell_type": "code",
   "execution_count": 3,
   "metadata": {},
   "outputs": [
    {
     "name": "stdout",
     "output_type": "stream",
     "text": [
      "Optimizing learners for 30s. Please wait.\n",
      "================== AutoDoubleMLIRM Object ==================\n",
      "\n",
      "------------------ Data summary      ------------------\n",
      "Outcome variable: y\n",
      "Treatment variable(s): ['d']\n",
      "Covariates: ['X1', 'X2', 'X3', 'X4', 'X5', 'X6', 'X7', 'X8', 'X9', 'X10', 'X11', 'X12', 'X13', 'X14', 'X15', 'X16', 'X17', 'X18', 'X19', 'X20']\n",
      "Instrument variable(s): None\n",
      "No. Observations: 500\n",
      "\n",
      "------------------ Score & algorithm ------------------\n",
      "Score function: ATE\n",
      "\n",
      "------------------ Machine learner   ------------------\n",
      "Learner ml_g: LGBMRegressor(colsample_bytree=np.float64(0.9173603562049241),\n",
      "              learning_rate=np.float64(0.11182436409111957), max_bin=255,\n",
      "              min_child_samples=30, n_estimators=1, n_jobs=-1, num_leaves=4,\n",
      "              reg_alpha=np.float64(0.0017271108100233477),\n",
      "              reg_lambda=np.float64(5.77947224171419), verbose=-1)\n",
      "Learner ml_m: LGBMClassifier(colsample_bytree=np.float64(0.9204090235908658),\n",
      "               learning_rate=np.float64(0.09505098876524817), max_bin=127,\n",
      "               min_child_samples=16, n_estimators=1, n_jobs=-1, num_leaves=8,\n",
      "               reg_alpha=np.float64(0.05873164376190532),\n",
      "               reg_lambda=np.float64(0.16128656744861192), verbose=-1)\n",
      "Out-of-sample Performance:\n",
      "Learner ml_g0 RMSE: [[0.99521088]]\n",
      "Learner ml_g1 RMSE: [[1.12580315]]\n",
      "Learner ml_m RMSE: [[0.48374496]]\n",
      "\n",
      "------------------ Resampling        ------------------\n",
      "No. folds: 5\n",
      "No. repeated sample splits: 1\n",
      "\n",
      "------------------ Fit summary       ------------------\n",
      "       coef   std err         t         P>|t|     2.5 %  97.5 %\n",
      "d  0.482978  0.094758  5.096959  3.451524e-07  0.297255  0.6687\n"
     ]
    }
   ],
   "source": [
    "print(autodml_obj.fit())"
   ]
  }
 ],
 "metadata": {
  "kernelspec": {
   "display_name": "dml07",
   "language": "python",
   "name": "python3"
  },
  "language_info": {
   "codemirror_mode": {
    "name": "ipython",
    "version": 3
   },
   "file_extension": ".py",
   "mimetype": "text/x-python",
   "name": "python",
   "nbconvert_exporter": "python",
   "pygments_lexer": "ipython3",
   "version": "3.12.4"
  }
 },
 "nbformat": 4,
 "nbformat_minor": 2
}
