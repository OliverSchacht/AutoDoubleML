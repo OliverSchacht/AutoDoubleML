{
 "cells": [
  {
   "cell_type": "markdown",
   "metadata": {},
   "source": [
    "# Quickstart Example for **AutoDoubleML**\n",
    "This notebook demonstrates how to use the wrapper library for automated nuisance estimation and double machine learning."
   ]
  },
  {
   "cell_type": "code",
   "execution_count": 1,
   "metadata": {},
   "outputs": [],
   "source": [
    "from doubleml.datasets import make_plr_CCDDHNR2018, make_irm_data\n",
    "from autodml.AutoDoubleMLPLR import AutoDoubleMLPLR\n",
    "from autodml.AutoDoubleMLIRM import AutoDoubleMLIRM"
   ]
  },
  {
   "cell_type": "markdown",
   "metadata": {},
   "source": [
    "We make example data with a function provided by ``DoubleML``. The `AutoDoubleMLPLR` objects inherits all methods and attributes from `DoubleMLPLR`, but it does not require nuisance estimators.\n",
    "Instead, we pass a `time` argument, which is either an `int` of maximal nuisance tuning time in seconds equally distributed on all learners or a `dict` of tuning time in seconds per learner."
   ]
  },
  {
   "cell_type": "code",
   "execution_count": 2,
   "metadata": {},
   "outputs": [],
   "source": [
    "obj_dml_data = make_plr_CCDDHNR2018()\n",
    "autodml_obj = AutoDoubleMLPLR(obj_dml_data, time = 20)"
   ]
  },
  {
   "cell_type": "code",
   "execution_count": 3,
   "metadata": {},
   "outputs": [
    {
     "name": "stdout",
     "output_type": "stream",
     "text": [
      "Optimizing learners: ml_l for 10s, ml_m for 10s. Please wait.\n",
      "================== AutoDoubleMLPLR Object ==================\n",
      "\n",
      "------------------ Data summary      ------------------\n",
      "Outcome variable: y\n",
      "Treatment variable(s): ['d']\n",
      "Covariates: ['X1', 'X2', 'X3', 'X4', 'X5', 'X6', 'X7', 'X8', 'X9', 'X10', 'X11', 'X12', 'X13', 'X14', 'X15', 'X16', 'X17', 'X18', 'X19', 'X20']\n",
      "Instrument variable(s): None\n",
      "No. Observations: 500\n",
      "\n",
      "------------------ Score & algorithm ------------------\n",
      "Score function: partialling out\n",
      "\n",
      "------------------ Machine learner   ------------------\n",
      "Learner ml_l: ExtraTreesRegressor(max_features=np.float64(0.9586055955836026),\n",
      "                    max_leaf_nodes=8, n_estimators=4, n_jobs=-1,\n",
      "                    random_state=12032022)\n",
      "Learner ml_m: LGBMRegressor(colsample_bytree=np.float64(0.9520950269114992),\n",
      "              learning_rate=np.float64(0.34574139203168747), max_bin=127,\n",
      "              min_child_samples=3, n_estimators=1, n_jobs=-1, num_leaves=4,\n",
      "              reg_alpha=np.float64(0.004577823970660193),\n",
      "              reg_lambda=np.float64(0.19703771534707865), verbose=-1)\n",
      "Out-of-sample Performance:\n",
      "Learner ml_l RMSE: [[1.18614578]]\n",
      "Learner ml_m RMSE: [[1.2459035]]\n",
      "\n",
      "------------------ Resampling        ------------------\n",
      "No. folds: 5\n",
      "No. repeated sample splits: 1\n",
      "\n",
      "------------------ Fit summary       ------------------\n",
      "       coef  std err          t         P>|t|     2.5 %    97.5 %\n",
      "d  0.455738  0.03862  11.800683  3.871544e-32  0.380045  0.531431\n"
     ]
    }
   ],
   "source": [
    "print(autodml_obj.fit())"
   ]
  },
  {
   "cell_type": "markdown",
   "metadata": {},
   "source": [
    "The `evaluate_learners()` method can be used to track the nuisance learner performance."
   ]
  },
  {
   "cell_type": "code",
   "execution_count": 4,
   "metadata": {},
   "outputs": [
    {
     "data": {
      "text/plain": [
       "{'ml_l': array([[1.18614578]]), 'ml_m': array([[1.2459035]])}"
      ]
     },
     "execution_count": 4,
     "metadata": {},
     "output_type": "execute_result"
    }
   ],
   "source": [
    "autodml_obj.evaluate_learners()"
   ]
  },
  {
   "cell_type": "markdown",
   "metadata": {},
   "source": [
    "By providing a `dict` with keys being the names of the nuisance components and values being an int of tuning time in seconds for each component, we can also customize time per component."
   ]
  },
  {
   "cell_type": "code",
   "execution_count": 5,
   "metadata": {},
   "outputs": [
    {
     "name": "stdout",
     "output_type": "stream",
     "text": [
      "Optimizing learners: ml_l for 42s, ml_m for 24s. Please wait.\n",
      "================== AutoDoubleMLPLR Object ==================\n",
      "\n",
      "------------------ Data summary      ------------------\n",
      "Outcome variable: y\n",
      "Treatment variable(s): ['d']\n",
      "Covariates: ['X1', 'X2', 'X3', 'X4', 'X5', 'X6', 'X7', 'X8', 'X9', 'X10', 'X11', 'X12', 'X13', 'X14', 'X15', 'X16', 'X17', 'X18', 'X19', 'X20']\n",
      "Instrument variable(s): None\n",
      "No. Observations: 500\n",
      "\n",
      "------------------ Score & algorithm ------------------\n",
      "Score function: partialling out\n",
      "\n",
      "------------------ Machine learner   ------------------\n",
      "Learner ml_l: ExtraTreesRegressor(max_features=np.float64(0.9874127485181794),\n",
      "                    max_leaf_nodes=10, n_estimators=4, n_jobs=-1,\n",
      "                    random_state=12032022)\n",
      "Learner ml_m: XGBRegressor(base_score=None, booster=None, callbacks=[], colsample_bylevel=1.0,\n",
      "             colsample_bynode=None, colsample_bytree=1.0, device=None,\n",
      "             early_stopping_rounds=None, enable_categorical=False,\n",
      "             eval_metric=None, feature_types=None, gamma=None,\n",
      "             grow_policy='lossguide', importance_type=None,\n",
      "             interaction_constraints=None,\n",
      "             learning_rate=np.float64(0.19088943654640977), max_bin=None,\n",
      "             max_cat_threshold=None, max_cat_to_onehot=None,\n",
      "             max_delta_step=None, max_depth=0, max_leaves=4,\n",
      "             min_child_weight=np.float64(1.115692811034863), missing=nan,\n",
      "             monotone_constraints=None, multi_strategy=None, n_estimators=17,\n",
      "             n_jobs=-1, num_parallel_tree=None, random_state=None, ...)\n",
      "Out-of-sample Performance:\n",
      "Learner ml_l RMSE: [[1.19836097]]\n",
      "Learner ml_m RMSE: [[1.07781908]]\n",
      "\n",
      "------------------ Resampling        ------------------\n",
      "No. folds: 5\n",
      "No. repeated sample splits: 1\n",
      "\n",
      "------------------ Fit summary       ------------------\n",
      "       coef   std err         t         P>|t|     2.5 %    97.5 %\n",
      "d  0.510918  0.045953  11.11833  1.021662e-28  0.420852  0.600984\n"
     ]
    }
   ],
   "source": [
    "time_dict =  {\n",
    "    'ml_l' : 42,\n",
    "    'ml_m' : 24,\n",
    "}\n",
    "autodml_obj = AutoDoubleMLPLR(obj_dml_data, time = time_dict)\n",
    "\n",
    "autodml_obj.fit()\n",
    "\n",
    "print(autodml_obj)"
   ]
  },
  {
   "cell_type": "code",
   "execution_count": 6,
   "metadata": {},
   "outputs": [
    {
     "data": {
      "text/plain": [
       "{'ml_l': array([[1.19836097]]), 'ml_m': array([[1.07781908]])}"
      ]
     },
     "execution_count": 6,
     "metadata": {},
     "output_type": "execute_result"
    }
   ],
   "source": [
    "# evaluate learner fit\n",
    "autodml_obj.evaluate_learners()"
   ]
  },
  {
   "cell_type": "markdown",
   "metadata": {},
   "source": [
    "The implementation is also available for `DoubleMLIRM` with similar syntax."
   ]
  },
  {
   "cell_type": "code",
   "execution_count": 7,
   "metadata": {},
   "outputs": [
    {
     "name": "stdout",
     "output_type": "stream",
     "text": [
      "Optimizing learners: ml_g0 for 10s, ml_g1 for 10s, ml_m for 10s. Please wait.\n",
      "================== AutoDoubleMLIRM Object ==================\n",
      "\n",
      "------------------ Data summary      ------------------\n",
      "Outcome variable: y\n",
      "Treatment variable(s): ['d']\n",
      "Covariates: ['X1', 'X2', 'X3', 'X4', 'X5', 'X6', 'X7', 'X8', 'X9', 'X10', 'X11', 'X12', 'X13', 'X14', 'X15', 'X16', 'X17', 'X18', 'X19', 'X20']\n",
      "Instrument variable(s): None\n",
      "No. Observations: 500\n",
      "\n",
      "------------------ Score & algorithm ------------------\n",
      "Score function: ATE\n",
      "\n",
      "------------------ Machine learner   ------------------\n",
      "Learner ml_g: XGBRegressor(base_score=None, booster=None, callbacks=[], colsample_bylevel=1.0,\n",
      "             colsample_bynode=None, colsample_bytree=1.0, device=None,\n",
      "             early_stopping_rounds=None, enable_categorical=False,\n",
      "             eval_metric=None, feature_types=None, gamma=None, grow_policy=None,\n",
      "             importance_type=None, interaction_constraints=None,\n",
      "             learning_rate=np.float64(0.29999999999999993), max_bin=None,\n",
      "             max_cat_threshold=None, max_cat_to_onehot=None,\n",
      "             max_delta_step=None, max_depth=6, max_leaves=None,\n",
      "             min_child_weight=np.float64(0.9999999999999993), missing=nan,\n",
      "             monotone_constraints=None, multi_strategy=None, n_estimators=10,\n",
      "             n_jobs=-1, num_parallel_tree=None, random_state=None, ...)\n",
      "Learner ml_m: XGBClassifier(base_score=None, booster=None, callbacks=[],\n",
      "              colsample_bylevel=1.0, colsample_bynode=None,\n",
      "              colsample_bytree=1.0, device=None, early_stopping_rounds=None,\n",
      "              enable_categorical=False, eval_metric=None, feature_types=None,\n",
      "              gamma=None, grow_policy='lossguide', importance_type=None,\n",
      "              interaction_constraints=None,\n",
      "              learning_rate=np.float64(0.15534015028670894), max_bin=None,\n",
      "              max_cat_threshold=None, max_cat_to_onehot=None,\n",
      "              max_delta_step=None, max_depth=0, max_leaves=4,\n",
      "              min_child_weight=np.float64(1.8254261897620911), missing=nan,\n",
      "              monotone_constraints=None, multi_strategy=None, n_estimators=5,\n",
      "              n_jobs=-1, num_parallel_tree=None, random_state=None, ...)\n",
      "Out-of-sample Performance:\n",
      "Learner ml_g0 RMSE: [[1.10701786]]\n",
      "Learner ml_g1 RMSE: [[1.11205585]]\n",
      "Learner ml_m RMSE: [[0.43664026]]\n",
      "\n",
      "------------------ Resampling        ------------------\n",
      "No. folds: 5\n",
      "No. repeated sample splits: 1\n",
      "\n",
      "------------------ Fit summary       ------------------\n",
      "       coef   std err         t     P>|t|    2.5 %    97.5 %\n",
      "d  0.280931  0.099191  2.832217  0.004623  0.08652  0.475342\n"
     ]
    }
   ],
   "source": [
    "obj_dml_data = make_irm_data()\n",
    "autodml_obj = AutoDoubleMLIRM(obj_dml_data, time = 30, score=\"ATE\")\n",
    "autodml_obj.fit()\n",
    "print(autodml_obj)"
   ]
  },
  {
   "cell_type": "code",
   "execution_count": 8,
   "metadata": {},
   "outputs": [
    {
     "data": {
      "text/plain": [
       "{'ml_g0': array([[1.10701786]]),\n",
       " 'ml_g1': array([[1.11205585]]),\n",
       " 'ml_m': array([[0.43664026]])}"
      ]
     },
     "execution_count": 8,
     "metadata": {},
     "output_type": "execute_result"
    }
   ],
   "source": [
    "# evaluate learner fit\n",
    "autodml_obj.evaluate_learners()"
   ]
  },
  {
   "cell_type": "code",
   "execution_count": 9,
   "metadata": {},
   "outputs": [],
   "source": [
    "# Custom split for training times\n",
    "time_dict =  {\n",
    "    'ml_g0' : 42,\n",
    "    'ml_g1' : 42,\n",
    "    'ml_m' : 24,\n",
    "}\n",
    "autodml_obj = AutoDoubleMLIRM(obj_dml_data, time = time_dict)\n"
   ]
  },
  {
   "cell_type": "code",
   "execution_count": 10,
   "metadata": {},
   "outputs": [
    {
     "name": "stdout",
     "output_type": "stream",
     "text": [
      "Optimizing learners: ml_g0 for 42s, ml_g1 for 42s, ml_m for 24s. Please wait.\n",
      "================== AutoDoubleMLIRM Object ==================\n",
      "\n",
      "------------------ Data summary      ------------------\n",
      "Outcome variable: y\n",
      "Treatment variable(s): ['d']\n",
      "Covariates: ['X1', 'X2', 'X3', 'X4', 'X5', 'X6', 'X7', 'X8', 'X9', 'X10', 'X11', 'X12', 'X13', 'X14', 'X15', 'X16', 'X17', 'X18', 'X19', 'X20']\n",
      "Instrument variable(s): None\n",
      "No. Observations: 500\n",
      "\n",
      "------------------ Score & algorithm ------------------\n",
      "Score function: ATE\n",
      "\n",
      "------------------ Machine learner   ------------------\n",
      "Learner ml_g: LGBMRegressor(colsample_bytree=np.float64(0.7334731365290879),\n",
      "              learning_rate=np.float64(0.2855822078594019), max_bin=511,\n",
      "              min_child_samples=19, n_estimators=1, n_jobs=-1, num_leaves=4,\n",
      "              reg_alpha=np.float64(0.0034571866620827637),\n",
      "              reg_lambda=np.float64(7.587522733199777), verbose=-1)\n",
      "Learner ml_m: ExtraTreesClassifier(criterion=np.str_('entropy'),\n",
      "                     max_features=np.float64(0.49694211775732616),\n",
      "                     max_leaf_nodes=6, n_estimators=4, n_jobs=-1,\n",
      "                     random_state=12032022)\n",
      "Out-of-sample Performance:\n",
      "Learner ml_g0 RMSE: [[1.01989452]]\n",
      "Learner ml_g1 RMSE: [[1.21723149]]\n",
      "Learner ml_m RMSE: [[0.42165199]]\n",
      "\n",
      "------------------ Resampling        ------------------\n",
      "No. folds: 5\n",
      "No. repeated sample splits: 1\n",
      "\n",
      "------------------ Fit summary       ------------------\n",
      "       coef   std err         t     P>|t|    2.5 %    97.5 %\n",
      "d  0.383612  0.102222  3.752734  0.000175  0.18326  0.583963\n"
     ]
    }
   ],
   "source": [
    "print(autodml_obj.fit())"
   ]
  },
  {
   "cell_type": "code",
   "execution_count": 11,
   "metadata": {},
   "outputs": [
    {
     "data": {
      "text/plain": [
       "{'ml_g0': array([[1.01989452]]),\n",
       " 'ml_g1': array([[1.21723149]]),\n",
       " 'ml_m': array([[0.42165199]])}"
      ]
     },
     "execution_count": 11,
     "metadata": {},
     "output_type": "execute_result"
    }
   ],
   "source": [
    "# evaluate learner fit\n",
    "autodml_obj.evaluate_learners()"
   ]
  }
 ],
 "metadata": {
  "kernelspec": {
   "display_name": "dml07",
   "language": "python",
   "name": "python3"
  },
  "language_info": {
   "codemirror_mode": {
    "name": "ipython",
    "version": 3
   },
   "file_extension": ".py",
   "mimetype": "text/x-python",
   "name": "python",
   "nbconvert_exporter": "python",
   "pygments_lexer": "ipython3",
   "version": "3.12.4"
  }
 },
 "nbformat": 4,
 "nbformat_minor": 2
}
